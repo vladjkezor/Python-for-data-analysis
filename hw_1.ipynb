{
  "nbformat": 4,
  "nbformat_minor": 0,
  "metadata": {
    "colab": {
      "provenance": []
    },
    "kernelspec": {
      "name": "python3",
      "display_name": "Python 3"
    },
    "language_info": {
      "name": "python"
    }
  },
  "cells": [
    {
      "cell_type": "code",
      "execution_count": null,
      "metadata": {
        "id": "aMsJRXsltB4i"
      },
      "outputs": [],
      "source": [
        "class Chocolate:\n",
        "\n",
        "    def __init__(self, price, additive=None):\n",
        "        self.price = price\n",
        "        self.additive = additive\n",
        "\n",
        "    def show_my_chocolate(self):\n",
        "        if self.additive is None:\n",
        "            print('Обычный шоколадный батончик')\n",
        "        else:\n",
        "            print(f'Шоколадный батончик, добавка: {self.additive}')\n",
        "\n",
        "    @property\n",
        "    def price(self):\n",
        "        return self.__price\n",
        "\n",
        "    @price.setter\n",
        "    def price(self, price):\n",
        "        if not isinstance(price, float):\n",
        "          raise TypeError\n",
        "        if price <= 0:\n",
        "            raise ValueError\n",
        "        self.__price = price\n",
        "\n",
        "    def __str__(self):\n",
        "        return f'Шоколадный батончик, {self.price} рублей'"
      ]
    },
    {
      "cell_type": "code",
      "source": [
        "mars = Chocolate(10.0, 'нуга')\n",
        "print(mars)\n",
        "mars.show_my_chocolate()"
      ],
      "metadata": {
        "colab": {
          "base_uri": "https://localhost:8080/"
        },
        "id": "A9Wlxj7334F5",
        "outputId": "1a829390-9092-4874-b394-147802c97fb5"
      },
      "execution_count": null,
      "outputs": [
        {
          "output_type": "stream",
          "name": "stdout",
          "text": [
            "Шоколадный батончик, 10.0 рублей\n",
            "Шоколадный батончик, добавка: нуга\n"
          ]
        }
      ]
    },
    {
      "cell_type": "markdown",
      "source": [
        "Изменение цены и начинки"
      ],
      "metadata": {
        "id": "Lhkq1PxEhjKU"
      }
    },
    {
      "cell_type": "code",
      "source": [
        "snickers = Chocolate(15.0, 'орехи')\n",
        "snickers.show_my_chocolate()\n",
        "print(snickers)\n",
        "snickers.price = 200.0\n",
        "snickers.additive = 'Лесной орех'\n",
        "print(snickers)\n",
        "snickers.show_my_chocolate()"
      ],
      "metadata": {
        "colab": {
          "base_uri": "https://localhost:8080/"
        },
        "id": "ZGt5ptjq-xjQ",
        "outputId": "96b309ab-cce6-4a14-80b7-ee85cd65dd26"
      },
      "execution_count": null,
      "outputs": [
        {
          "output_type": "stream",
          "name": "stdout",
          "text": [
            "Шоколадный батончик, добавка: орехи\n",
            "Шоколадный батончик, 15.0 рублей\n",
            "Шоколадный батончик, 200.0 рублей\n",
            "Шоколадный батончик, добавка: Лесной орех\n"
          ]
        }
      ]
    },
    {
      "cell_type": "markdown",
      "source": [
        "Шоколадка без начинки"
      ],
      "metadata": {
        "id": "aMklgehghgk0"
      }
    },
    {
      "cell_type": "code",
      "source": [
        "empty_bar = Chocolate(3.0)\n",
        "print(empty_bar)\n",
        "empty_bar.show_my_chocolate()"
      ],
      "metadata": {
        "colab": {
          "base_uri": "https://localhost:8080/"
        },
        "id": "jymVg2hgfe1E",
        "outputId": "003d7032-a1bb-414d-eebd-8b9e3ba16833"
      },
      "execution_count": null,
      "outputs": [
        {
          "output_type": "stream",
          "name": "stdout",
          "text": [
            "Шоколадный батончик, 3.0 рублей\n",
            "Обычный шоколадный батончик\n"
          ]
        }
      ]
    },
    {
      "cell_type": "markdown",
      "source": [
        "Отрицательная цена"
      ],
      "metadata": {
        "id": "k74xBuuwhQlb"
      }
    },
    {
      "cell_type": "code",
      "source": [
        "milka = Chocolate(-5)"
      ],
      "metadata": {
        "colab": {
          "base_uri": "https://localhost:8080/",
          "height": 785
        },
        "id": "ogqNbTPRfiZL",
        "outputId": "89097449-ed60-4ea1-c26c-7d5f2b5b4b07"
      },
      "execution_count": null,
      "outputs": [
        {
          "output_type": "error",
          "ename": "TypeError",
          "evalue": "",
          "traceback": [
            "\u001b[0;31m---------------------------------------------------------------------------\u001b[0m",
            "\u001b[0;31mTypeError\u001b[0m                                 Traceback (most recent call last)",
            "\u001b[0;32m<ipython-input-7-4bcc873418dc>\u001b[0m in \u001b[0;36m<cell line: 1>\u001b[0;34m()\u001b[0m\n\u001b[0;32m----> 1\u001b[0;31m \u001b[0mmilka\u001b[0m \u001b[0;34m=\u001b[0m \u001b[0mChocolate\u001b[0m\u001b[0;34m(\u001b[0m\u001b[0;34m-\u001b[0m\u001b[0;36m5\u001b[0m\u001b[0;34m)\u001b[0m\u001b[0;34m\u001b[0m\u001b[0;34m\u001b[0m\u001b[0m\n\u001b[0m",
            "\u001b[0;32m<ipython-input-3-fd817df03a2d>\u001b[0m in \u001b[0;36m__init__\u001b[0;34m(self, price, additive)\u001b[0m\n\u001b[1;32m      2\u001b[0m \u001b[0;34m\u001b[0m\u001b[0m\n\u001b[1;32m      3\u001b[0m     \u001b[0;32mdef\u001b[0m \u001b[0m__init__\u001b[0m\u001b[0;34m(\u001b[0m\u001b[0mself\u001b[0m\u001b[0;34m,\u001b[0m \u001b[0mprice\u001b[0m\u001b[0;34m,\u001b[0m \u001b[0madditive\u001b[0m\u001b[0;34m=\u001b[0m\u001b[0;32mNone\u001b[0m\u001b[0;34m)\u001b[0m\u001b[0;34m:\u001b[0m\u001b[0;34m\u001b[0m\u001b[0;34m\u001b[0m\u001b[0m\n\u001b[0;32m----> 4\u001b[0;31m         \u001b[0mself\u001b[0m\u001b[0;34m.\u001b[0m\u001b[0mprice\u001b[0m \u001b[0;34m=\u001b[0m \u001b[0mprice\u001b[0m\u001b[0;34m\u001b[0m\u001b[0;34m\u001b[0m\u001b[0m\n\u001b[0m\u001b[1;32m      5\u001b[0m         \u001b[0mself\u001b[0m\u001b[0;34m.\u001b[0m\u001b[0madditive\u001b[0m \u001b[0;34m=\u001b[0m \u001b[0madditive\u001b[0m\u001b[0;34m\u001b[0m\u001b[0;34m\u001b[0m\u001b[0m\n\u001b[1;32m      6\u001b[0m \u001b[0;34m\u001b[0m\u001b[0m\n",
            "\u001b[0;32m<ipython-input-3-fd817df03a2d>\u001b[0m in \u001b[0;36mprice\u001b[0;34m(self, price)\u001b[0m\n\u001b[1;32m     18\u001b[0m     \u001b[0;32mdef\u001b[0m \u001b[0mprice\u001b[0m\u001b[0;34m(\u001b[0m\u001b[0mself\u001b[0m\u001b[0;34m,\u001b[0m \u001b[0mprice\u001b[0m\u001b[0;34m)\u001b[0m\u001b[0;34m:\u001b[0m\u001b[0;34m\u001b[0m\u001b[0;34m\u001b[0m\u001b[0m\n\u001b[1;32m     19\u001b[0m         \u001b[0;32mif\u001b[0m \u001b[0;32mnot\u001b[0m \u001b[0misinstance\u001b[0m\u001b[0;34m(\u001b[0m\u001b[0mprice\u001b[0m\u001b[0;34m,\u001b[0m \u001b[0mfloat\u001b[0m\u001b[0;34m)\u001b[0m\u001b[0;34m:\u001b[0m\u001b[0;34m\u001b[0m\u001b[0;34m\u001b[0m\u001b[0m\n\u001b[0;32m---> 20\u001b[0;31m           \u001b[0;32mraise\u001b[0m \u001b[0mTypeError\u001b[0m\u001b[0;34m\u001b[0m\u001b[0;34m\u001b[0m\u001b[0m\n\u001b[0m\u001b[1;32m     21\u001b[0m         \u001b[0;32mif\u001b[0m \u001b[0mprice\u001b[0m \u001b[0;34m<=\u001b[0m \u001b[0;36m0\u001b[0m\u001b[0;34m:\u001b[0m\u001b[0;34m\u001b[0m\u001b[0;34m\u001b[0m\u001b[0m\n\u001b[1;32m     22\u001b[0m             \u001b[0;32mraise\u001b[0m \u001b[0mValueError\u001b[0m\u001b[0;34m\u001b[0m\u001b[0;34m\u001b[0m\u001b[0m\n",
            "\u001b[0;31mTypeError\u001b[0m: "
          ]
        }
      ]
    },
    {
      "cell_type": "markdown",
      "source": [
        "Нулевая цена"
      ],
      "metadata": {
        "id": "34R25ovNhTnM"
      }
    },
    {
      "cell_type": "code",
      "source": [
        "twix = Chocolate(0.0)"
      ],
      "metadata": {
        "id": "wLgCvhnofsF6"
      },
      "execution_count": null,
      "outputs": []
    },
    {
      "cell_type": "markdown",
      "source": [
        "Цена не float"
      ],
      "metadata": {
        "id": "aN74m0rihWrq"
      }
    },
    {
      "cell_type": "code",
      "source": [
        "bounty = Chocolate(10, 'coconut')"
      ],
      "metadata": {
        "id": "iSdOZJ8nhYsi"
      },
      "execution_count": null,
      "outputs": []
    }
  ]
}
